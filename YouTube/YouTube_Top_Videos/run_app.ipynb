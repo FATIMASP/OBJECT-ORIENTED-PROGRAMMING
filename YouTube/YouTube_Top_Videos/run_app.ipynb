{
 "cells": [
  {
   "cell_type": "code",
   "execution_count": 1,
   "id": "fa905f49",
   "metadata": {},
   "outputs": [
    {
     "name": "stdout",
     "output_type": "stream",
     "text": [
      "   SNo                                        Video Title     Views   Likes  \\\n",
      "0    1  BURGER MAKING | Super Fast Cooking Skills | Eg...  56084471  290427   \n",
      "1    2       Let's Try Bun Kebab | KARACHI, Pakistan food   2886580  151174   \n",
      "2    3  King of Pakistani Street Food - THE BUN KEBAB ...   4159232   54773   \n",
      "3    4  Street Style Mini Bun Kabab Recipe By Food Fusion   2270232   31324   \n",
      "4    5  Special Bun kabab Karachi Style By Food Fusion...   2020626   25597   \n",
      "\n",
      "                                    Video Link    Channel Title  \\\n",
      "0  https://www.youtube.com/watch?v=RWzzhQVBHm8  Rashida Hussain   \n",
      "1  https://www.youtube.com/watch?v=TJlj05DDLfc      GoldenGully   \n",
      "2  https://www.youtube.com/watch?v=H5fiS6zFVIY       Mark Wiens   \n",
      "3  https://www.youtube.com/watch?v=_EhPLfrrH_I      Food Fusion   \n",
      "4  https://www.youtube.com/watch?v=TuEY0NZBspo      Food Fusion   \n",
      "\n",
      "                                        Channel Link Subscribers  \\\n",
      "0  https://www.youtube.com/channel/UCg3soi6DfJ-s7...     1540000   \n",
      "1  https://www.youtube.com/channel/UC9t2RlHUshAAR...     4670000   \n",
      "2  https://www.youtube.com/channel/UCyEd6QBSgat5k...    10200000   \n",
      "3  https://www.youtube.com/channel/UCuqBZWK9Wrol_...     4490000   \n",
      "4  https://www.youtube.com/channel/UCuqBZWK9Wrol_...     4490000   \n",
      "\n",
      "   Channel Views  Total Videos  \n",
      "0      843135917           673  \n",
      "1     3680239653          1034  \n",
      "2     2535128522          1363  \n",
      "3     1421051483          3182  \n",
      "4     1421051483          3182  \n"
     ]
    }
   ],
   "source": [
    "#RUN_OOP.ipynb\n",
    "%run app.py"
   ]
  }
 ],
 "metadata": {
  "kernelspec": {
   "display_name": "Python 3",
   "language": "python",
   "name": "python3"
  },
  "language_info": {
   "codemirror_mode": {
    "name": "ipython",
    "version": 3
   },
   "file_extension": ".py",
   "mimetype": "text/x-python",
   "name": "python",
   "nbconvert_exporter": "python",
   "pygments_lexer": "ipython3",
   "version": "3.8.5"
  },
  "vp": {
   "vp_config_version": "1.0.0",
   "vp_menu_width": 273,
   "vp_note_display": false,
   "vp_note_width": 0,
   "vp_position": {
    "width": 278
   },
   "vp_section_display": false,
   "vp_signature": "VisualPython"
  }
 },
 "nbformat": 4,
 "nbformat_minor": 5
}
